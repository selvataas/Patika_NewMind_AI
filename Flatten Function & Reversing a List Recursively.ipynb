{
 "cells": [
  {
   "cell_type": "markdown",
   "id": "6ef71f70",
   "metadata": {},
   "source": [
    "Flattening a List"
   ]
  },
  {
   "cell_type": "code",
   "execution_count": 1,
   "id": "1a75f95b",
   "metadata": {},
   "outputs": [
    {
     "name": "stdout",
     "output_type": "stream",
     "text": [
      "[1, 'a', 'cat', 2, 3, 'dog', 4, 5]\n"
     ]
    }
   ],
   "source": [
    "def flatten_list(nested_list):\n",
    "    flat_list = []\n",
    "    for element in nested_list:\n",
    "        if isinstance(element, list):  \n",
    "            flat_list.extend(flatten_list(element))  \n",
    "        else:\n",
    "            flat_list.append(element)  \n",
    "    return flat_list\n",
    "\n",
    "input_list = [[1, 'a', ['cat'], 2], [[[3]], 'dog'], 4, 5]\n",
    "output_list = flatten_list(input_list)\n",
    "print(output_list)  "
   ]
  },
  {
   "cell_type": "markdown",
   "id": "cb55e01c",
   "metadata": {},
   "source": [
    " Reversing a List Recursively"
   ]
  },
  {
   "cell_type": "code",
   "execution_count": 2,
   "id": "4046f77f",
   "metadata": {},
   "outputs": [
    {
     "name": "stdout",
     "output_type": "stream",
     "text": [
      "[[[7], [6], [5]], [[4], [3]], [[2], [1]]]\n"
     ]
    }
   ],
   "source": [
    "def reverse_list(nested_list):\n",
    "    if not isinstance(nested_list, list):\n",
    "        return [nested_list]\n",
    "    \n",
    "    reversed_list = [reverse_list(item) for item in nested_list[::-1]]\n",
    "    return reversed_list\n",
    "\n",
    "input_list = [[1, 2], [3, 4], [5, 6, 7]]\n",
    "output_list = reverse_list(input_list)\n",
    "print(output_list) "
   ]
  },
  {
   "cell_type": "code",
   "execution_count": null,
   "id": "45815a52",
   "metadata": {},
   "outputs": [],
   "source": []
  }
 ],
 "metadata": {
  "kernelspec": {
   "display_name": "Python 3 (ipykernel)",
   "language": "python",
   "name": "python3"
  },
  "language_info": {
   "codemirror_mode": {
    "name": "ipython",
    "version": 3
   },
   "file_extension": ".py",
   "mimetype": "text/x-python",
   "name": "python",
   "nbconvert_exporter": "python",
   "pygments_lexer": "ipython3",
   "version": "3.11.5"
  }
 },
 "nbformat": 4,
 "nbformat_minor": 5
}
